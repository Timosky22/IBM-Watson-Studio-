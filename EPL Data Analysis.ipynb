{
    "cells": [
        {
            "cell_type": "markdown",
            "metadata": {},
            "source": "# DESCRIPTION \nAnalysis of EPL Data"
        },
        {
            "cell_type": "code",
            "execution_count": null,
            "metadata": {},
            "outputs": [],
            "source": ""
        },
        {
            "cell_type": "code",
            "execution_count": 7,
            "metadata": {},
            "outputs": [],
            "source": "# The code was removed by Watson Studio for sharing."
        },
        {
            "cell_type": "code",
            "execution_count": 8,
            "metadata": {},
            "outputs": [
                {
                    "data": {
                        "text/html": "<table>\n<thead><tr><th scope=col>Name</th><th scope=col>Club</th><th scope=col>Nationality</th><th scope=col>Position</th><th scope=col>Age</th><th scope=col>Matches</th><th scope=col>Starts</th><th scope=col>Mins</th><th scope=col>Goals</th><th scope=col>Assists</th><th scope=col>Passes_Attempted</th><th scope=col>Perc_Passes_Completed</th><th scope=col>Penalty_Goals</th><th scope=col>Penalty_Attempted</th><th scope=col>xG</th><th scope=col>xA</th><th scope=col>Yellow_Cards</th><th scope=col>Red_Cards</th></tr></thead>\n<tbody>\n\t<tr><td>Mason Mount      </td><td>Chelsea          </td><td>ENG              </td><td>MF,FW            </td><td>21               </td><td>36               </td><td>32               </td><td>2890             </td><td>6                </td><td>5                </td><td>1881             </td><td>82.3             </td><td>1                </td><td>1                </td><td>0.21             </td><td>0.24             </td><td>2                </td><td>0                </td></tr>\n\t<tr><td>Edouard Mendy    </td><td>Chelsea          </td><td>SEN              </td><td>GK               </td><td>28               </td><td>31               </td><td>31               </td><td>2745             </td><td>0                </td><td>0                </td><td>1007             </td><td>84.6             </td><td>0                </td><td>0                </td><td>0.00             </td><td>0.00             </td><td>2                </td><td>0                </td></tr>\n\t<tr><td>Timo Werner      </td><td>Chelsea          </td><td>GER              </td><td>FW               </td><td>24               </td><td>35               </td><td>29               </td><td>2602             </td><td>6                </td><td>8                </td><td> 826             </td><td>77.2             </td><td>0                </td><td>0                </td><td>0.41             </td><td>0.21             </td><td>2                </td><td>0                </td></tr>\n\t<tr><td>Ben Chilwell     </td><td>Chelsea          </td><td>ENG              </td><td>DF               </td><td>23               </td><td>27               </td><td>27               </td><td>2286             </td><td>3                </td><td>5                </td><td>1806             </td><td>78.6             </td><td>0                </td><td>0                </td><td>0.10             </td><td>0.11             </td><td>3                </td><td>0                </td></tr>\n\t<tr><td>Reece James      </td><td>Chelsea          </td><td>ENG              </td><td>DF               </td><td>20               </td><td>32               </td><td>25               </td><td>2373             </td><td>1                </td><td>2                </td><td>1987             </td><td>85.0             </td><td>0                </td><td>0                </td><td>0.06             </td><td>0.12             </td><td>3                </td><td>0                </td></tr>\n\t<tr><td>C\u00e9sar Azpilicueta</td><td>Chelsea          </td><td>ESP              </td><td>DF               </td><td>30               </td><td>26               </td><td>24               </td><td>2188             </td><td>1                </td><td>2                </td><td>2015             </td><td>87.5             </td><td>0                </td><td>0                </td><td>0.03             </td><td>0.11             </td><td>5                </td><td>1                </td></tr>\n</tbody>\n</table>\n",
                        "text/latex": "\\begin{tabular}{r|llllllllllllllllll}\n Name & Club & Nationality & Position & Age & Matches & Starts & Mins & Goals & Assists & Passes\\_Attempted & Perc\\_Passes\\_Completed & Penalty\\_Goals & Penalty\\_Attempted & xG & xA & Yellow\\_Cards & Red\\_Cards\\\\\n\\hline\n\t Mason Mount       & Chelsea           & ENG               & MF,FW             & 21                & 36                & 32                & 2890              & 6                 & 5                 & 1881              & 82.3              & 1                 & 1                 & 0.21              & 0.24              & 2                 & 0                \\\\\n\t Edouard Mendy     & Chelsea           & SEN               & GK                & 28                & 31                & 31                & 2745              & 0                 & 0                 & 1007              & 84.6              & 0                 & 0                 & 0.00              & 0.00              & 2                 & 0                \\\\\n\t Timo Werner       & Chelsea           & GER               & FW                & 24                & 35                & 29                & 2602              & 6                 & 8                 &  826              & 77.2              & 0                 & 0                 & 0.41              & 0.21              & 2                 & 0                \\\\\n\t Ben Chilwell      & Chelsea           & ENG               & DF                & 23                & 27                & 27                & 2286              & 3                 & 5                 & 1806              & 78.6              & 0                 & 0                 & 0.10              & 0.11              & 3                 & 0                \\\\\n\t Reece James       & Chelsea           & ENG               & DF                & 20                & 32                & 25                & 2373              & 1                 & 2                 & 1987              & 85.0              & 0                 & 0                 & 0.06              & 0.12              & 3                 & 0                \\\\\n\t C\u00e9sar Azpilicueta & Chelsea           & ESP               & DF                & 30                & 26                & 24                & 2188              & 1                 & 2                 & 2015              & 87.5              & 0                 & 0                 & 0.03              & 0.11              & 5                 & 1                \\\\\n\\end{tabular}\n",
                        "text/markdown": "\n| Name | Club | Nationality | Position | Age | Matches | Starts | Mins | Goals | Assists | Passes_Attempted | Perc_Passes_Completed | Penalty_Goals | Penalty_Attempted | xG | xA | Yellow_Cards | Red_Cards |\n|---|---|---|---|---|---|---|---|---|---|---|---|---|---|---|---|---|---|\n| Mason Mount       | Chelsea           | ENG               | MF,FW             | 21                | 36                | 32                | 2890              | 6                 | 5                 | 1881              | 82.3              | 1                 | 1                 | 0.21              | 0.24              | 2                 | 0                 |\n| Edouard Mendy     | Chelsea           | SEN               | GK                | 28                | 31                | 31                | 2745              | 0                 | 0                 | 1007              | 84.6              | 0                 | 0                 | 0.00              | 0.00              | 2                 | 0                 |\n| Timo Werner       | Chelsea           | GER               | FW                | 24                | 35                | 29                | 2602              | 6                 | 8                 |  826              | 77.2              | 0                 | 0                 | 0.41              | 0.21              | 2                 | 0                 |\n| Ben Chilwell      | Chelsea           | ENG               | DF                | 23                | 27                | 27                | 2286              | 3                 | 5                 | 1806              | 78.6              | 0                 | 0                 | 0.10              | 0.11              | 3                 | 0                 |\n| Reece James       | Chelsea           | ENG               | DF                | 20                | 32                | 25                | 2373              | 1                 | 2                 | 1987              | 85.0              | 0                 | 0                 | 0.06              | 0.12              | 3                 | 0                 |\n| C\u00e9sar Azpilicueta | Chelsea           | ESP               | DF                | 30                | 26                | 24                | 2188              | 1                 | 2                 | 2015              | 87.5              | 0                 | 0                 | 0.03              | 0.11              | 5                 | 1                 |\n\n",
                        "text/plain": "  Name              Club    Nationality Position Age Matches Starts Mins Goals\n1 Mason Mount       Chelsea ENG         MF,FW    21  36      32     2890 6    \n2 Edouard Mendy     Chelsea SEN         GK       28  31      31     2745 0    \n3 Timo Werner       Chelsea GER         FW       24  35      29     2602 6    \n4 Ben Chilwell      Chelsea ENG         DF       23  27      27     2286 3    \n5 Reece James       Chelsea ENG         DF       20  32      25     2373 1    \n6 C\u00e9sar Azpilicueta Chelsea ESP         DF       30  26      24     2188 1    \n  Assists Passes_Attempted Perc_Passes_Completed Penalty_Goals\n1 5       1881             82.3                  1            \n2 0       1007             84.6                  0            \n3 8        826             77.2                  0            \n4 5       1806             78.6                  0            \n5 2       1987             85.0                  0            \n6 2       2015             87.5                  0            \n  Penalty_Attempted xG   xA   Yellow_Cards Red_Cards\n1 1                 0.21 0.24 2            0        \n2 0                 0.00 0.00 2            0        \n3 0                 0.41 0.21 2            0        \n4 0                 0.10 0.11 3            0        \n5 0                 0.06 0.12 3            0        \n6 0                 0.03 0.11 5            1        "
                    },
                    "metadata": {},
                    "output_type": "display_data"
                }
            ],
            "source": "df_data_1 <- read.csv(text = rawToChar(obj))\nhead(df_data_1)\n"
        },
        {
            "cell_type": "code",
            "execution_count": 9,
            "metadata": {},
            "outputs": [
                {
                    "name": "stdout",
                    "output_type": "stream",
                    "text": "'data.frame':\t532 obs. of  18 variables:\n $ Name                 : Factor w/ 524 levels \"Aaron Connolly\",..: 337 141 488 53 422 85 368 272 485 301 ...\n $ Club                 : Factor w/ 20 levels \"Arsenal\",\"Aston Villa\",..: 5 5 5 5 5 5 5 5 5 5 ...\n $ Nationality          : Factor w/ 59 levels \"ALG\",\"ARG\",\"AUS\",..: 18 48 22 18 18 19 20 29 8 20 ...\n $ Position             : Factor w/ 10 levels \"DF\",\"DF,FW\",\"DF,MF\",..: 10 7 4 1 1 1 8 8 1 1 ...\n $ Age                  : int  21 28 24 23 20 30 29 28 35 25 ...\n $ Matches              : int  36 31 35 27 32 26 30 28 23 24 ...\n $ Starts               : int  32 31 29 27 25 24 24 23 23 22 ...\n $ Mins                 : int  2890 2745 2602 2286 2373 2188 2146 2010 1935 2029 ...\n $ Goals                : int  6 0 6 3 1 1 0 7 2 5 ...\n $ Assists              : int  5 0 8 5 2 2 2 1 0 0 ...\n $ Passes_Attempted     : int  1881 1007 826 1806 1987 2015 1504 1739 1871 1720 ...\n $ Perc_Passes_Completed: num  82.3 84.6 77.2 78.6 85 87.5 86.6 89.5 93.5 91.9 ...\n $ Penalty_Goals        : int  1 0 0 0 0 0 0 7 0 0 ...\n $ Penalty_Attempted    : int  1 0 0 0 0 0 0 9 0 0 ...\n $ xG                   : num  0.21 0 0.41 0.1 0.06 0.03 0.04 0.31 0.05 0.08 ...\n $ xA                   : num  0.24 0 0.21 0.11 0.12 0.11 0.05 0.09 0.02 0 ...\n $ Yellow_Cards         : int  2 2 2 3 3 5 7 2 5 3 ...\n $ Red_Cards            : int  0 0 0 0 0 1 0 0 1 0 ...\n"
                }
            ],
            "source": "str(df_data_1)"
        },
        {
            "cell_type": "code",
            "execution_count": null,
            "metadata": {},
            "outputs": [],
            "source": ""
        }
    ],
    "metadata": {
        "kernelspec": {
            "display_name": "R 3.6",
            "language": "R",
            "name": "r"
        },
        "language_info": {
            "codemirror_mode": "r",
            "file_extension": ".r",
            "mimetype": "text/x-r-source",
            "name": "R",
            "pygments_lexer": "r",
            "version": "3.6.1"
        }
    },
    "nbformat": 4,
    "nbformat_minor": 1
}